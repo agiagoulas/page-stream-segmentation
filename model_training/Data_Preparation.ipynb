{
  "nbformat": 4,
  "nbformat_minor": 0,
  "metadata": {
    "colab": {
      "name": "Data_Preparation.ipynb",
      "provenance": [],
      "collapsed_sections": [],
      "authorship_tag": "ABX9TyPwCW+1AVsTUmL7Cnk98wT/",
      "include_colab_link": true
    },
    "kernelspec": {
      "name": "python3",
      "display_name": "Python 3"
    },
    "language_info": {
      "name": "python"
    }
  },
  "cells": [
    {
      "cell_type": "markdown",
      "metadata": {
        "id": "view-in-github",
        "colab_type": "text"
      },
      "source": [
        "<a href=\"https://colab.research.google.com/github/agiagoulas/page-stream-segmentation/blob/master/model_training/Data_Preparation.ipynb\" target=\"_parent\"><img src=\"https://colab.research.google.com/assets/colab-badge.svg\" alt=\"Open In Colab\"/></a>"
      ]
    },
    {
      "cell_type": "markdown",
      "metadata": {
        "id": "UxtMVuP7tuWs"
      },
      "source": [
        "Connect to Google Drive when working in Google Colab"
      ]
    },
    {
      "cell_type": "code",
      "metadata": {
        "id": "7yS8FCZF6fBS"
      },
      "source": [
        "from google.colab import drive\n",
        "drive.mount('/content/gdrive')"
      ],
      "execution_count": null,
      "outputs": []
    },
    {
      "cell_type": "markdown",
      "metadata": {
        "id": "F3mTLBUOtxC6"
      },
      "source": [
        "Set working_dir"
      ]
    },
    {
      "cell_type": "code",
      "metadata": {
        "id": "gx2FTQOVaXio"
      },
      "source": [
        "working_dir = \"/Tobacco800/\" # TODO: Set correct working directory"
      ],
      "execution_count": null,
      "outputs": []
    },
    {
      "cell_type": "markdown",
      "metadata": {
        "id": "AN4Vw4Kut0wX"
      },
      "source": [
        "Imports"
      ]
    },
    {
      "cell_type": "code",
      "metadata": {
        "id": "WPLpTRVBaQcd"
      },
      "source": [
        "import csv\n",
        "from PIL import Image  \n",
        "from os import listdir\n",
        "from os.path import isfile, join\n",
        "from collections import Counter\n",
        "from google.colab.patches import cv2_imshow\n",
        "import cv2"
      ],
      "execution_count": 5,
      "outputs": []
    },
    {
      "cell_type": "markdown",
      "metadata": {
        "id": "-C3euwKzc6Md"
      },
      "source": [
        "# Dataset Splitting"
      ]
    },
    {
      "cell_type": "code",
      "metadata": {
        "id": "1IQx0VHteEtZ"
      },
      "source": [
        "def splitt_tobacco800(source_dir, train_dir, test_dir):\n",
        "    sorted_file_names = sorted([f for f in listdir(source_dir) if isfile(join(source_dir, f))])\n",
        "\n",
        "    past_file_title = ''\n",
        "    copy_to = \"train\"\n",
        "\n",
        "    print(\"Copying Files to Train\")\n",
        "    for counter, file_name in enumerate(sorted_file_names):\n",
        "        file_name_split = file_name.split('_')\n",
        "        current_file_title = file_name_split[0]\n",
        "\n",
        "        if copy_to == \"train\":\n",
        "            if counter >= 1032 and not past_file_title == current_file_title: # rupture\n",
        "                current_file_title = current_file_title.split('.')[0]\n",
        "                print(\"Copying Files to Test\")\n",
        "                source = source_dir + file_name\n",
        "                !cp \"$source\" \"$test_dir\"\n",
        "                copy_to = \"test\"\n",
        "            else: \n",
        "                source = source_dir + file_name\n",
        "                !cp \"$source\" \"$train_dir\"\n",
        "        else:\n",
        "            source = source_dir + file_name\n",
        "            !cp \"$source\" \"$test_dir\"\n",
        "        past_file_title = current_file_title"
      ],
      "execution_count": 6,
      "outputs": []
    },
    {
      "cell_type": "code",
      "metadata": {
        "id": "JoD80G9AeT9y"
      },
      "source": [
        "tobacco800_dir = working_dir + \"Tobacco800_Complete/\"\n",
        "train_file_dir = working_dir + \"Tobacco800_Train/\"\n",
        "test_file_dir = working_dir + \"Tobacco800_Test/\""
      ],
      "execution_count": 7,
      "outputs": []
    },
    {
      "cell_type": "code",
      "metadata": {
        "id": "VAJW58nbc9K8"
      },
      "source": [
        "splitt_tobacco800(tobacco800_dir, train_file_dir, test_file_dir)"
      ],
      "execution_count": null,
      "outputs": []
    },
    {
      "cell_type": "markdown",
      "metadata": {
        "id": "1ZHB3ZCQcETb"
      },
      "source": [
        "# Image Resizing"
      ]
    },
    {
      "cell_type": "code",
      "metadata": {
        "id": "RoIRnYT4bdHE"
      },
      "source": [
        "def resize(image_file):\n",
        "    img = cv2.imread(image_file, 0)\n",
        "    gray, img_bin = cv2.threshold(img,0,255,cv2.THRESH_BINARY_INV + cv2.THRESH_OTSU)\n",
        "    gray = cv2.bitwise_not(img_bin)\n",
        "    dim = (255, 255)\n",
        "    return cv2.resize(gray, dim, interpolation = cv2.INTER_AREA)"
      ],
      "execution_count": 6,
      "outputs": []
    },
    {
      "cell_type": "code",
      "metadata": {
        "id": "f1t-jUasbX6M"
      },
      "source": [
        "def process_images(source_dir, target_dir):\n",
        "  sorted_file_names = sorted([f for f in listdir(source_dir) if isfile(join(source_dir, f))])\n",
        "\n",
        "  for counter, file_name in enumerate(sorted_file_names):\n",
        "    source_file = source_dir + file_name\n",
        "    target_file = target_dir + file_name.split(\".\")[0] + \".txt.png\"\n",
        "\n",
        "    image = resize(source_file)\n",
        "    cv2.imwrite(target_file, image) \n",
        "\n",
        "    print(counter+1, \"of\", len(sorted_file_names))\n",
        "    print(\"File name:\", file_name)\n",
        "    print(\"Target:\", target_file)"
      ],
      "execution_count": 10,
      "outputs": []
    },
    {
      "cell_type": "code",
      "metadata": {
        "id": "s15oGS5ybWl7"
      },
      "source": [
        "source_train_files = working_dir + \"Tobacco800_Train/\"\n",
        "source_test_files = working_dir + \"Tobacco800_Test/\"\n",
        "small_file_dir = working_dir + \"Tobacco800_Small/\""
      ],
      "execution_count": 8,
      "outputs": []
    },
    {
      "cell_type": "code",
      "metadata": {
        "id": "4wIeNHtkb7UG"
      },
      "source": [
        "process_images(source_test_files, small_file_dir)"
      ],
      "execution_count": null,
      "outputs": []
    },
    {
      "cell_type": "code",
      "metadata": {
        "id": "u1ky7xtHb7qU"
      },
      "source": [
        "process_images(source_train_files, small_file_dir)"
      ],
      "execution_count": null,
      "outputs": []
    }
  ]
}