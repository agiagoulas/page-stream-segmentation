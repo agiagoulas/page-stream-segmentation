{
  "nbformat": 4,
  "nbformat_minor": 0,
  "metadata": {
    "colab": {
      "name": "ImageModel-Training.ipynb",
      "provenance": [],
      "collapsed_sections": [],
      "authorship_tag": "ABX9TyM+rjblAn0NGxVitOVuGP5F",
      "include_colab_link": true
    },
    "kernelspec": {
      "name": "python3",
      "display_name": "Python 3"
    },
    "language_info": {
      "name": "python"
    },
    "accelerator": "GPU"
  },
  "cells": [
    {
      "cell_type": "markdown",
      "metadata": {
        "id": "view-in-github",
        "colab_type": "text"
      },
      "source": [
        "<a href=\"https://colab.research.google.com/github/agiagoulas/page-stream-segmentation/blob/master/model_training/ImageModel_Training.ipynb\" target=\"_parent\"><img src=\"https://colab.research.google.com/assets/colab-badge.svg\" alt=\"Open In Colab\"/></a>"
      ]
    },
    {
      "cell_type": "markdown",
      "metadata": {
        "id": "_oSAR3r6b76X"
      },
      "source": [
        "# Setup & Imports"
      ]
    },
    {
      "cell_type": "markdown",
      "metadata": {
        "id": "Lgj-Z-iDcBDO"
      },
      "source": [
        "Connect to Google Drive when working in Google Colab"
      ]
    },
    {
      "cell_type": "code",
      "metadata": {
        "colab": {
          "base_uri": "https://localhost:8080/"
        },
        "id": "Sfvdq3Wa_yWZ",
        "outputId": "6428070f-cb6b-47c3-baa6-821f5c1826bf"
      },
      "source": [
        "from google.colab import drive\n",
        "drive.mount('/content/gdrive')"
      ],
      "execution_count": 1,
      "outputs": [
        {
          "output_type": "stream",
          "text": [
            "Mounted at /content/gdrive\n"
          ],
          "name": "stdout"
        }
      ]
    },
    {
      "cell_type": "markdown",
      "metadata": {
        "id": "oATo5_hycEYU"
      },
      "source": [
        "Set working directory "
      ]
    },
    {
      "cell_type": "code",
      "metadata": {
        "id": "alczGBMi8LcF"
      },
      "source": [
        "working_dir = \"/Tobacco800/\""
      ],
      "execution_count": 2,
      "outputs": []
    },
    {
      "cell_type": "markdown",
      "metadata": {
        "id": "Dk_yOBfZcFwj"
      },
      "source": [
        "Imports"
      ]
    },
    {
      "cell_type": "code",
      "metadata": {
        "id": "lXplMQDS7paq"
      },
      "source": [
        "import csv, re, math\n",
        "import sklearn.metrics as sklm\n",
        "import numpy as np\n",
        "import requests\n",
        "import tensorflow as tf\n",
        "\n",
        "from keras.callbacks import ModelCheckpoint\n",
        "from importlib import reload\n",
        "from keras.utils import Sequence\n",
        "from keras.models import Sequential, Model\n",
        "from keras.layers import *\n",
        "from keras.utils import *\n",
        "from keras.callbacks import ModelCheckpoint, Callback"
      ],
      "execution_count": 3,
      "outputs": []
    },
    {
      "cell_type": "markdown",
      "metadata": {
        "id": "tMVxAqbzcIM5"
      },
      "source": [
        "Private Imports"
      ]
    },
    {
      "cell_type": "code",
      "metadata": {
        "id": "lHCoFFgb3G_5"
      },
      "source": [
        "model_img_request = requests.get(\"https://raw.githubusercontent.com/agiagoulas/page-stream-segmentation/master/app/pss/model_img.py\")\n",
        "with open(\"model_img.py\", \"w\") as f:\n",
        "    f.write(model_img_request.text)\n",
        "import model_img"
      ],
      "execution_count": 4,
      "outputs": []
    },
    {
      "cell_type": "markdown",
      "metadata": {
        "id": "5l6ekeEMcMrK"
      },
      "source": [
        "Set model_img properties"
      ]
    },
    {
      "cell_type": "code",
      "metadata": {
        "id": "w4tTU2tS7hQm"
      },
      "source": [
        "img_dim = (224,224)\n",
        "model_img.img_path_template = working_dir + \"Tobacco800_Small/%s.png\""
      ],
      "execution_count": 6,
      "outputs": []
    },
    {
      "cell_type": "markdown",
      "metadata": {
        "id": "AxJYxPI3cMCl"
      },
      "source": [
        "Load Tobacco800 Data"
      ]
    },
    {
      "cell_type": "code",
      "metadata": {
        "id": "s6kUHNQw__Al"
      },
      "source": [
        "data_train = model_img.read_csv_data(working_dir + \"tobacco800.train\")\n",
        "data_test = model_img.read_csv_data(working_dir + \"tobacco800.test\")"
      ],
      "execution_count": 7,
      "outputs": []
    },
    {
      "cell_type": "markdown",
      "metadata": {
        "id": "5xg0tR999TxJ"
      },
      "source": [
        "# Single Page Model Trainnig"
      ]
    },
    {
      "cell_type": "markdown",
      "metadata": {
        "id": "U6qOVd6ncRla"
      },
      "source": [
        "Model Training"
      ]
    },
    {
      "cell_type": "code",
      "metadata": {
        "id": "yj3wUR0T8rxw"
      },
      "source": [
        "n_repeats = 10\n",
        "n_epochs = 20\n",
        "single_page_metric_history = []\n",
        "optimize_for = 'kappa'\n",
        "\n",
        "with tf.device('/GPU:0'):\n",
        "  for i in range(n_repeats):\n",
        "      print(\"Repeat \" + str(i+1) + \" of \" + str(n_repeats))\n",
        "      print(\"-------------------------\")\n",
        "      model_singlepage = model_img.compile_model_singlepage(img_dim)\n",
        "      model_file = working_dir + \"tobacco800_image_single-page_%02d.hdf5\" % (i,)\n",
        "      checkpoint = model_img.ValidationCheckpoint(model_file, data_test, img_dim, metric=optimize_for)\n",
        "      model_singlepage.fit(model_img.ImageFeatureGenerator(data_train, img_dim, prevpage=False, train=True),\n",
        "                      callbacks = [checkpoint],\n",
        "                      epochs = n_epochs)\n",
        "      single_page_metric_history.append(checkpoint.max_metrics)\n",
        "\n",
        "print(single_page_metric_history)"
      ],
      "execution_count": null,
      "outputs": []
    },
    {
      "cell_type": "markdown",
      "metadata": {
        "id": "3A0GiSkacVRl"
      },
      "source": [
        "Show metric results from different models"
      ]
    },
    {
      "cell_type": "code",
      "metadata": {
        "id": "Oblwg0G49eU5"
      },
      "source": [
        "for i, r in enumerate(single_page_metric_history):\n",
        "    model_file = working_dir + \"tobacco800_image_single-page_%02d.hdf5\" % (i)\n",
        "    print(str(i) + ' ' + str(r['kappa']) + ' ' + str(r['accuracy']) + ' ' + str(r['f1_micro']) + ' ' + str(r['f1_macro']) + ' ' +  model_file)"
      ],
      "execution_count": null,
      "outputs": []
    },
    {
      "cell_type": "markdown",
      "metadata": {
        "id": "WLSitKA-cYTa"
      },
      "source": [
        "Load model and generate prediction"
      ]
    },
    {
      "cell_type": "code",
      "metadata": {
        "id": "uSUd0j2O8B-I"
      },
      "source": [
        "model_singlepage = model_img.compile_model_singlepage(img_dim)\n",
        "model_singlepage.load_weights(working_dir + \"tobacco800_image_single-page_00.hdf5\")\n",
        "\n",
        "y_predict = np.round(model_singlepage.predict(model_img.ImageFeatureGenerator(data_test, img_dim, prevpage=False, train=True)))\n",
        "y_true = [model_img.LABEL2IDX[x[3]] for x in data_test]\n",
        "print(\"Accuracy: \" + str(sklm.accuracy_score(y_true, y_predict)))\n",
        "print(\"Kappa: \" + str(sklm.cohen_kappa_score(y_true, y_predict)))\n",
        "print(\"F1 Micro \" + str(sklm.f1_score(y_true, y_predict, average='micro')))\n",
        "print(\"F1 Macro \" + str(sklm.f1_score(y_true, y_predict, average='macro')))"
      ],
      "execution_count": null,
      "outputs": []
    },
    {
      "cell_type": "markdown",
      "metadata": {
        "id": "oLhOmLdU9XOu"
      },
      "source": [
        "# Current & Prev Page Model Training"
      ]
    },
    {
      "cell_type": "markdown",
      "metadata": {
        "id": "8UeHCgPLcdCp"
      },
      "source": [
        "Model Training"
      ]
    },
    {
      "cell_type": "code",
      "metadata": {
        "id": "uS3h23Bg9j0f"
      },
      "source": [
        "n_repeats = 10\n",
        "n_epochs = 20\n",
        "prev_page_metric_history = []\n",
        "optimize_for = 'kappa'\n",
        "\n",
        "with tf.device('/GPU:0'):\n",
        "  for i in range(n_repeats):\n",
        "      print(\"Repeat \" + str(i+1) + \" of \" + str(n_repeats))\n",
        "      print(\"-------------------------\")\n",
        "      model_prevpage = model_img.compile_model_prevpage(img_dim)\n",
        "      model_file = working_dir + \"tobacco800_image_prev-page_%02d.hdf5\" % (i,)\n",
        "      checkpoint = model_img.ValidationCheckpoint(model_file, data_test, img_dim, prev_page_generator=True, metric=optimize_for)\n",
        "      model_prevpage.fit(model_img.ImageFeatureGenerator(data_train, img_dim, prevpage=True, train=True),\n",
        "                      callbacks = [checkpoint],\n",
        "                      epochs = n_epochs)\n",
        "      prev_page_metric_history.append(checkpoint.max_metrics)\n",
        "\n",
        "print(prev_page_metric_history)"
      ],
      "execution_count": null,
      "outputs": []
    },
    {
      "cell_type": "markdown",
      "metadata": {
        "id": "AUPBIqS_chtu"
      },
      "source": [
        "Show metric results from different models"
      ]
    },
    {
      "cell_type": "code",
      "metadata": {
        "id": "FA8_NQfJ9_3_"
      },
      "source": [
        "for i, r in enumerate(prev_page_metric_history):\n",
        "    model_file = working_dir + \"tobacco800_image_prev-page_%02d.hdf5\" % (i)\n",
        "    print(str(i) + ' ' + str(r['kappa']) + ' ' + str(r['accuracy']) + ' ' + str(r['f1_micro']) + ' ' + str(r['f1_macro']) + ' ' +  model_file)"
      ],
      "execution_count": null,
      "outputs": []
    },
    {
      "cell_type": "markdown",
      "metadata": {
        "id": "hYixjQyLckmG"
      },
      "source": [
        "Load model and generate prediction"
      ]
    },
    {
      "cell_type": "code",
      "metadata": {
        "id": "VVoEL2Dl8cy0"
      },
      "source": [
        "model_prevpage = model_img.compile_model_prevpage(img_dim)\n",
        "model_prevpage.load_weights(working_dir + \"tobacco800_image_prev-page_%02d.hdf5\")\n",
        "\n",
        "y_predict = np.round(model_prevpage.predict(model_img.ImageFeatureGenerator(data_test, img_dim, prevpage=True, train=True)))\n",
        "y_true = [model_img.LABEL2IDX[x[3]] for x in data_test]\n",
        "print(\"Accuracy: \" + str(sklm.accuracy_score(y_true, y_predict)))\n",
        "print(\"Kappa: \" + str(sklm.cohen_kappa_score(y_true, y_predict)))\n",
        "print(\"F1 Micro \" + str(sklm.f1_score(y_true, y_predict, average='micro')))\n",
        "print(\"F1 Macro \" + str(sklm.f1_score(y_true, y_predict, average='macro')))"
      ],
      "execution_count": null,
      "outputs": []
    }
  ]
}
