{
  "nbformat": 4,
  "nbformat_minor": 0,
  "metadata": {
    "colab": {
      "name": "CSV-Generation.ipynb",
      "provenance": [],
      "collapsed_sections": [],
      "authorship_tag": "ABX9TyPud/qye762uzwq+1n1vvUn",
      "include_colab_link": true
    },
    "kernelspec": {
      "name": "python3",
      "display_name": "Python 3"
    },
    "language_info": {
      "name": "python"
    }
  },
  "cells": [
    {
      "cell_type": "markdown",
      "metadata": {
        "id": "view-in-github",
        "colab_type": "text"
      },
      "source": [
        "<a href=\"https://colab.research.google.com/github/agiagoulas/page-stream-segmentation/blob/master/model_training/CSV_Generation.ipynb\" target=\"_parent\"><img src=\"https://colab.research.google.com/assets/colab-badge.svg\" alt=\"Open In Colab\"/></a>"
      ]
    },
    {
      "cell_type": "markdown",
      "metadata": {
        "id": "75jPThHn6nkJ"
      },
      "source": [
        "Connect to Google Drive when working in Google Colab"
      ]
    },
    {
      "cell_type": "code",
      "metadata": {
        "id": "L_ij3_GU6kTg"
      },
      "source": [
        "from google.colab import drive\n",
        "drive.mount('/content/gdrive')"
      ],
      "execution_count": null,
      "outputs": []
    },
    {
      "cell_type": "markdown",
      "metadata": {
        "id": "b30Ql_c6cy3s"
      },
      "source": [
        "Set working_dir"
      ]
    },
    {
      "cell_type": "code",
      "metadata": {
        "id": "7d_Fx18h-rSV"
      },
      "source": [
        "working_dir = \"/Tobacco800/\" # TODO: Set correct working directory"
      ],
      "execution_count": null,
      "outputs": []
    },
    {
      "cell_type": "markdown",
      "metadata": {
        "id": "UwAIt6YD6qK6"
      },
      "source": [
        "Imports"
      ]
    },
    {
      "cell_type": "code",
      "metadata": {
        "id": "8Bgl6bsKn6t1"
      },
      "source": [
        "!sudo apt install tesseract-ocr\n",
        "!pip install pytesseract\n",
        "import csv\n",
        "from os import listdir\n",
        "from os.path import isfile, join\n",
        "from PIL import Image\n",
        "import cv2\n",
        "import pytesseract\n",
        "import numpy as np"
      ],
      "execution_count": null,
      "outputs": []
    },
    {
      "cell_type": "markdown",
      "metadata": {
        "id": "DzdL0w0k6cLA"
      },
      "source": [
        "# CSV File Generation"
      ]
    },
    {
      "cell_type": "markdown",
      "metadata": {
        "id": "ufWKIBFuPu5-"
      },
      "source": [
        "OCR Extraction with Tessaract OCR"
      ]
    },
    {
      "cell_type": "code",
      "metadata": {
        "id": "qSHx4_dMO2cf"
      },
      "source": [
        "def parse_image_to_str(image_file):\n",
        "    # open image\n",
        "    img = cv2.imread(image_file)\n",
        "\n",
        "    # parse to grayscale\n",
        "    gray = cv2.cvtColor(img, cv2.COLOR_RGB2GRAY)\n",
        "    gray, img_bin = cv2.threshold(gray,128,255,cv2.THRESH_BINARY | cv2.THRESH_OTSU)\n",
        "    gray = cv2.bitwise_not(img_bin)\n",
        "\n",
        "    # ocr extraction\n",
        "    kernel = np.ones((2, 1), np.uint8)\n",
        "    img = cv2.erode(gray, kernel, iterations=1)\n",
        "    img = cv2.dilate(img, kernel, iterations=1)\n",
        "    out_below = pytesseract.image_to_string(img, lang=\"eng\")\n",
        "    return out_below"
      ],
      "execution_count": 4,
      "outputs": []
    },
    {
      "cell_type": "markdown",
      "metadata": {
        "id": "Cpy22MgTPxQh"
      },
      "source": [
        "CSV File Generation"
      ]
    },
    {
      "cell_type": "code",
      "metadata": {
        "id": "eliL-hgEoRc7"
      },
      "source": [
        "def create_csv_file(target_file, source_dir):\n",
        "    file = open(target_file, 'a')\n",
        "\n",
        "    source_files = sorted([f for f in listdir(source_dir) if isfile(join(source_dir, f))])\n",
        "\n",
        "    with file:\n",
        "        writer = csv.writer(file, csv.QUOTE_NONNUMERIC, delimiter=';')\n",
        "        writer.writerow([\"counter\", \"documentText\", \"label\", \"documentName\"])\n",
        "        \n",
        "        past_file_title = \"\"\n",
        "        for counter, file_name in enumerate(source_files):\n",
        "            file_name_split = file_name.split('_')\n",
        "            current_file_title = file_name_split[0]\n",
        "            print(counter+1, \"of\", len(source_files))\n",
        "\n",
        "            file_content = parse_image_to_str(source_dir + file_name)\n",
        "\n",
        "            if past_file_title == current_file_title:\n",
        "                writer.writerow([counter, file_content, \"NextPage\", file_name])\n",
        "            else: \n",
        "                current_file_title = current_file_title.split('.')[0]\n",
        "                writer.writerow([counter, file_content, \"FirstPage\", file_name])\n",
        "\n",
        "            past_file_title = current_file_title"
      ],
      "execution_count": 5,
      "outputs": []
    },
    {
      "cell_type": "code",
      "metadata": {
        "id": "HDXPAX34pRre"
      },
      "source": [
        "source_train_files = working_dir + \"Tobacco800_Train/\"\n",
        "source_test_files = working_dir + \"Tobacco800_Test/\"\n",
        "target_train_csv_file = working_dir + \"tobacco800.train\"\n",
        "target_test_csv_file = working_dir + \"tobacco800.test\""
      ],
      "execution_count": 6,
      "outputs": []
    },
    {
      "cell_type": "code",
      "metadata": {
        "id": "y2abbtqUpnsl"
      },
      "source": [
        "create_csv_file(target_train_csv_file, source_train_files)"
      ],
      "execution_count": null,
      "outputs": []
    },
    {
      "cell_type": "code",
      "metadata": {
        "id": "YQl013Tjp93d"
      },
      "source": [
        "create_csv_file(target_test_csv_file, source_test_files)"
      ],
      "execution_count": null,
      "outputs": []
    }
  ]
}