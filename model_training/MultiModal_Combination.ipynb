{
  "nbformat": 4,
  "nbformat_minor": 0,
  "metadata": {
    "colab": {
      "name": "MultiModal-Combination.ipynb",
      "provenance": [],
      "collapsed_sections": [],
      "authorship_tag": "ABX9TyMNhzZ2qPX6tccWXX+wJpXN",
      "include_colab_link": true
    },
    "kernelspec": {
      "name": "python3",
      "display_name": "Python 3"
    },
    "language_info": {
      "name": "python"
    }
  },
  "cells": [
    {
      "cell_type": "markdown",
      "metadata": {
        "id": "view-in-github",
        "colab_type": "text"
      },
      "source": [
        "<a href=\"https://colab.research.google.com/github/agiagoulas/page-stream-segmentation/blob/master/model_training/MultiModal_Combination.ipynb\" target=\"_parent\"><img src=\"https://colab.research.google.com/assets/colab-badge.svg\" alt=\"Open In Colab\"/></a>"
      ]
    },
    {
      "cell_type": "markdown",
      "metadata": {
        "id": "ekUSydJsjrUw"
      },
      "source": [
        "Connect to Google Drive when working in Google Colab"
      ]
    },
    {
      "cell_type": "code",
      "metadata": {
        "colab": {
          "base_uri": "https://localhost:8080/"
        },
        "id": "7gjFSPnjgkC1",
        "outputId": "79eb5d0e-86c7-4a0b-8a94-068db72426c7"
      },
      "source": [
        "from google.colab import drive\n",
        "drive.mount('/content/gdrive')"
      ],
      "execution_count": 1,
      "outputs": [
        {
          "output_type": "stream",
          "text": [
            "Mounted at /content/gdrive\n"
          ],
          "name": "stdout"
        }
      ]
    },
    {
      "cell_type": "markdown",
      "metadata": {
        "id": "jtL5n8_Rjwt-"
      },
      "source": [
        "Set working directory "
      ]
    },
    {
      "cell_type": "code",
      "metadata": {
        "id": "49meJ_G0hYaU"
      },
      "source": [
        "working_dir = \"/Tobacco800/\""
      ],
      "execution_count": 10,
      "outputs": []
    },
    {
      "cell_type": "markdown",
      "metadata": {
        "id": "FgJjIKFojzAH"
      },
      "source": [
        "Imports"
      ]
    },
    {
      "cell_type": "code",
      "metadata": {
        "id": "LlCZtdvrgiue"
      },
      "source": [
        "!git clone https://github.com/facebookresearch/fastText.git\n",
        "!pip install fastText/.\n",
        "import fasttext\n",
        "from keras.callbacks import ModelCheckpoint, Callback\n",
        "from keras.models import load_model, Model\n",
        "from keras.optimizers import *\n",
        "from keras.layers import *\n",
        "from keras import regularizers\n",
        "from importlib import reload\n",
        "from sklearn import metrics as sklm\n",
        "import numpy as np\n",
        "import keras.backend as K\n",
        "import tensorflow as tf\n",
        "import requests"
      ],
      "execution_count": null,
      "outputs": []
    },
    {
      "cell_type": "markdown",
      "metadata": {
        "id": "Gss5NvOjjz8h"
      },
      "source": [
        "Private Imports"
      ]
    },
    {
      "cell_type": "code",
      "metadata": {
        "id": "1RtDscD3goHa"
      },
      "source": [
        "model_request = requests.get(\"https://raw.githubusercontent.com/agiagoulas/page-stream-segmentation/master/app/pss/model.py\")\n",
        "with open(\"model.py\", \"w\") as f:\n",
        "    f.write(model_request.text)\n",
        "import model\n",
        "model_img_request = requests.get(\"https://raw.githubusercontent.com/agiagoulas/page-stream-segmentation/master/app/pss/model_img.py\")\n",
        "with open(\"model_img.py\", \"w\") as f:\n",
        "    f.write(model_img_request.text)\n",
        "import model_img"
      ],
      "execution_count": 5,
      "outputs": []
    },
    {
      "cell_type": "markdown",
      "metadata": {
        "id": "xw1GGochj2BB"
      },
      "source": [
        "Get Fasttext word vectors"
      ]
    },
    {
      "cell_type": "code",
      "metadata": {
        "id": "wPAD_xfggygd"
      },
      "source": [
        "if 'ft' not in locals():\n",
        "    !wget https://dl.fbaipublicfiles.com/fasttext/vectors-wiki/wiki.en.zip\n",
        "    !unzip wiki.en.zip\n",
        "    ft = fasttext.load_model(\"wiki.en.bin\")\n",
        "    model.ft = ft"
      ],
      "execution_count": null,
      "outputs": []
    },
    {
      "cell_type": "markdown",
      "metadata": {
        "id": "RbUf3M4Jj6S4"
      },
      "source": [
        "Set model_img properties"
      ]
    },
    {
      "cell_type": "code",
      "metadata": {
        "id": "hFsKkwOHg2KM"
      },
      "source": [
        "img_dim = (224,224)\n",
        "model_img.img_path_template = working_dir + \"Tobacco800_Small/%s.png\""
      ],
      "execution_count": 11,
      "outputs": []
    },
    {
      "cell_type": "markdown",
      "metadata": {
        "id": "12QLwMyOj7kp"
      },
      "source": [
        "Load Tobacco800 data"
      ]
    },
    {
      "cell_type": "code",
      "metadata": {
        "id": "XkslJmIMfSE-"
      },
      "source": [
        "data_text_test = model.read_csv_data(working_dir + \"tobacco800.test\")\n",
        "data_image_test = model_img.read_csv_data(working_dir + \"tobacco800.test\")"
      ],
      "execution_count": 12,
      "outputs": []
    },
    {
      "cell_type": "markdown",
      "metadata": {
        "id": "LEYGel6mj9vK"
      },
      "source": [
        "Load Models & Weights"
      ]
    },
    {
      "cell_type": "code",
      "metadata": {
        "id": "sJ7roqycigWo"
      },
      "source": [
        "model_text = model.compile_model_singlepage()\n",
        "model_text.load_weights(working_dir + \"tobacco800_text_single-page_00.hdf5\")\n",
        "model_image = model_img.compile_model_singlepage(img_dim)\n",
        "model_image.load_weights(working_dir + \"tobacco800_image_single-page_00.hdf5\")"
      ],
      "execution_count": null,
      "outputs": []
    },
    {
      "cell_type": "markdown",
      "metadata": {
        "id": "taC1DrcTj_yZ"
      },
      "source": [
        "Generate Predictions"
      ]
    },
    {
      "cell_type": "code",
      "metadata": {
        "id": "e4Gl1NECfePU"
      },
      "source": [
        "prediction_test_test = model_text.predict(model.TextFeatureGenerator(data_text_test, prevpage=False, train=False))\n",
        "prediction_image_test = model_image.predict(model_img.ImageFeatureGenerator(data_image_test, img_dim, prevpage=False, train=True))\n",
        "probability_text_test = np.concatenate([1 - prediction_test_test, prediction_test_test], axis = 1)\n",
        "probability_image_test = np.concatenate([1 - prediction_image_test, prediction_image_test], axis = 1)"
      ],
      "execution_count": null,
      "outputs": []
    },
    {
      "cell_type": "markdown",
      "metadata": {
        "id": "ZHM8xZTDkDCc"
      },
      "source": [
        "Get y_true predictions"
      ]
    },
    {
      "cell_type": "code",
      "metadata": {
        "id": "J6IRDK8bgXwq"
      },
      "source": [
        "_, _, _, y_true = zip(*data_text_test)\n",
        "y_true = [1 if y == 'FirstPage' else 0 for y in y_true]"
      ],
      "execution_count": 20,
      "outputs": []
    },
    {
      "cell_type": "markdown",
      "metadata": {
        "id": "avzn60MrkK2v"
      },
      "source": [
        "**Late Fusion Approach**\n",
        "\n",
        "Get best i, j in (0,1) power normalizations for scoring"
      ]
    },
    {
      "cell_type": "code",
      "metadata": {
        "id": "gcYQr_yWgZ4l"
      },
      "source": [
        "max_kappa = 0\n",
        "test_exponents = [x / 10 for x in range(1,11)]\n",
        "for i in test_exponents:\n",
        "    for j in test_exponents:\n",
        "        y_predict = np.argmax(np.power(probability_text_test, i) * np.power(probability_image_test, j), axis = 1)\n",
        "        acc = sklm.accuracy_score(y_true, y_predict)\n",
        "        kappa = sklm.cohen_kappa_score(y_true, y_predict)\n",
        "        if kappa > max_kappa:\n",
        "            max_kappa = kappa\n",
        "            print(str(i) + \" \" + str(j))\n",
        "            print(\"Accuracy: \" + str(acc))\n",
        "            print(\"Kappa: \" + str(kappa))"
      ],
      "execution_count": null,
      "outputs": []
    }
  ]
}
